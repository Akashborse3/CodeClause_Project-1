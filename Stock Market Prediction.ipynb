{
 "cells": [
  {
   "cell_type": "markdown",
   "id": "6c468b6c",
   "metadata": {},
   "source": [
    "# Stock Market Prediction"
   ]
  },
  {
   "cell_type": "markdown",
   "id": "6ed1e8dd",
   "metadata": {},
   "source": [
    "* Stock Price Prediction using machine learning helps you discover the future value of company stock and other financial assets traded on an exchange."
   ]
  },
  {
   "cell_type": "markdown",
   "id": "0041e687",
   "metadata": {},
   "source": [
    "## Working With Dataset\n",
    "* we have the iris dataset.Before creating the model and training it,\n",
    "* we have to preprocess the dataset. Preprocessing means converting the dataset into an understandable format before using it for any machine learning algorithms."
   ]
  },
  {
   "cell_type": "markdown",
   "id": "b730aec6",
   "metadata": {},
   "source": [
    "## Importing Libraries"
   ]
  },
  {
   "cell_type": "code",
   "execution_count": 129,
   "id": "317a0bd8",
   "metadata": {},
   "outputs": [],
   "source": [
    "import numpy as np\n",
    "import pandas as pd\n",
    "import matplotlib.pyplot as plt\n",
    "import seaborn as sns\n",
    "\n",
    "from sklearn.model_selection import train_test_split\n",
    "from sklearn.preprocessing import StandardScaler\n",
    "from sklearn.linear_model import LogisticRegression\n",
    "from sklearn.svm import SVC\n",
    "#from xgboost import XGBClassifier\n",
    "from sklearn import metrics\n",
    "\n",
    "import warnings\n",
    "warnings.filterwarnings('ignore')"
   ]
  },
  {
   "cell_type": "code",
   "execution_count": 166,
   "id": "0c1b2ef7",
   "metadata": {},
   "outputs": [
    {
     "name": "stdout",
     "output_type": "stream",
     "text": [
      "Collecting xgboost\n",
      "  Downloading xgboost-1.7.4-py3-none-win_amd64.whl (89.1 MB)\n",
      "Requirement already satisfied: numpy in c:\\anaconda\\lib\\site-packages (from xgboost) (1.20.1)\n",
      "Requirement already satisfied: scipy in c:\\anaconda\\lib\\site-packages (from xgboost) (1.6.2)\n",
      "Installing collected packages: xgboost\n",
      "Successfully installed xgboost-1.7.4\n"
     ]
    }
   ],
   "source": [
    "!pip install xgboost "
   ]
  },
  {
   "cell_type": "code",
   "execution_count": 169,
   "id": "de91e028",
   "metadata": {},
   "outputs": [],
   "source": [
    "from xgboost import XGBClassifier\n"
   ]
  },
  {
   "cell_type": "markdown",
   "id": "a1f008f8",
   "metadata": {},
   "source": [
    "# Read the dataset"
   ]
  },
  {
   "cell_type": "code",
   "execution_count": 130,
   "id": "a899fddd",
   "metadata": {},
   "outputs": [
    {
     "data": {
      "text/html": [
       "<div>\n",
       "<style scoped>\n",
       "    .dataframe tbody tr th:only-of-type {\n",
       "        vertical-align: middle;\n",
       "    }\n",
       "\n",
       "    .dataframe tbody tr th {\n",
       "        vertical-align: top;\n",
       "    }\n",
       "\n",
       "    .dataframe thead th {\n",
       "        text-align: right;\n",
       "    }\n",
       "</style>\n",
       "<table border=\"1\" class=\"dataframe\">\n",
       "  <thead>\n",
       "    <tr style=\"text-align: right;\">\n",
       "      <th></th>\n",
       "      <th>Date</th>\n",
       "      <th>Open</th>\n",
       "      <th>High</th>\n",
       "      <th>Low</th>\n",
       "      <th>Close</th>\n",
       "      <th>Adj Close</th>\n",
       "      <th>Volume</th>\n",
       "    </tr>\n",
       "  </thead>\n",
       "  <tbody>\n",
       "    <tr>\n",
       "      <th>0</th>\n",
       "      <td>2015-01-01</td>\n",
       "      <td>1283.500000</td>\n",
       "      <td>1283.500000</td>\n",
       "      <td>1270.500000</td>\n",
       "      <td>1272.775024</td>\n",
       "      <td>1114.909302</td>\n",
       "      <td>366830.0</td>\n",
       "    </tr>\n",
       "    <tr>\n",
       "      <th>1</th>\n",
       "      <td>2015-01-02</td>\n",
       "      <td>1275.500000</td>\n",
       "      <td>1295.474976</td>\n",
       "      <td>1275.300049</td>\n",
       "      <td>1289.724976</td>\n",
       "      <td>1129.757202</td>\n",
       "      <td>925740.0</td>\n",
       "    </tr>\n",
       "    <tr>\n",
       "      <th>2</th>\n",
       "      <td>2015-01-05</td>\n",
       "      <td>1290.500000</td>\n",
       "      <td>1299.949951</td>\n",
       "      <td>1262.324951</td>\n",
       "      <td>1270.125000</td>\n",
       "      <td>1112.587769</td>\n",
       "      <td>1754242.0</td>\n",
       "    </tr>\n",
       "    <tr>\n",
       "      <th>3</th>\n",
       "      <td>2015-01-06</td>\n",
       "      <td>1264.550049</td>\n",
       "      <td>1264.550049</td>\n",
       "      <td>1220.000000</td>\n",
       "      <td>1223.300049</td>\n",
       "      <td>1071.570801</td>\n",
       "      <td>2423784.0</td>\n",
       "    </tr>\n",
       "    <tr>\n",
       "      <th>4</th>\n",
       "      <td>2015-01-07</td>\n",
       "      <td>1235.000000</td>\n",
       "      <td>1239.574951</td>\n",
       "      <td>1203.724976</td>\n",
       "      <td>1208.849976</td>\n",
       "      <td>1058.912842</td>\n",
       "      <td>2636332.0</td>\n",
       "    </tr>\n",
       "    <tr>\n",
       "      <th>...</th>\n",
       "      <td>...</td>\n",
       "      <td>...</td>\n",
       "      <td>...</td>\n",
       "      <td>...</td>\n",
       "      <td>...</td>\n",
       "      <td>...</td>\n",
       "      <td>...</td>\n",
       "    </tr>\n",
       "    <tr>\n",
       "      <th>1661</th>\n",
       "      <td>2021-09-24</td>\n",
       "      <td>3890.000000</td>\n",
       "      <td>3944.399902</td>\n",
       "      <td>3855.000000</td>\n",
       "      <td>3871.300049</td>\n",
       "      <td>3871.300049</td>\n",
       "      <td>2320754.0</td>\n",
       "    </tr>\n",
       "    <tr>\n",
       "      <th>1662</th>\n",
       "      <td>2021-09-27</td>\n",
       "      <td>3900.000000</td>\n",
       "      <td>3904.000000</td>\n",
       "      <td>3802.899902</td>\n",
       "      <td>3836.949951</td>\n",
       "      <td>3836.949951</td>\n",
       "      <td>1673362.0</td>\n",
       "    </tr>\n",
       "    <tr>\n",
       "      <th>1663</th>\n",
       "      <td>2021-09-28</td>\n",
       "      <td>3850.000000</td>\n",
       "      <td>3850.000000</td>\n",
       "      <td>3751.250000</td>\n",
       "      <td>3779.149902</td>\n",
       "      <td>3779.149902</td>\n",
       "      <td>2253075.0</td>\n",
       "    </tr>\n",
       "    <tr>\n",
       "      <th>1664</th>\n",
       "      <td>2021-09-29</td>\n",
       "      <td>3759.800049</td>\n",
       "      <td>3806.000000</td>\n",
       "      <td>3722.149902</td>\n",
       "      <td>3791.899902</td>\n",
       "      <td>3791.899902</td>\n",
       "      <td>2489161.0</td>\n",
       "    </tr>\n",
       "    <tr>\n",
       "      <th>1665</th>\n",
       "      <td>2021-09-30</td>\n",
       "      <td>3805.000000</td>\n",
       "      <td>3805.000000</td>\n",
       "      <td>3750.100098</td>\n",
       "      <td>3775.550049</td>\n",
       "      <td>3775.550049</td>\n",
       "      <td>2252412.0</td>\n",
       "    </tr>\n",
       "  </tbody>\n",
       "</table>\n",
       "<p>1666 rows × 7 columns</p>\n",
       "</div>"
      ],
      "text/plain": [
       "            Date         Open         High          Low        Close  \\\n",
       "0     2015-01-01  1283.500000  1283.500000  1270.500000  1272.775024   \n",
       "1     2015-01-02  1275.500000  1295.474976  1275.300049  1289.724976   \n",
       "2     2015-01-05  1290.500000  1299.949951  1262.324951  1270.125000   \n",
       "3     2015-01-06  1264.550049  1264.550049  1220.000000  1223.300049   \n",
       "4     2015-01-07  1235.000000  1239.574951  1203.724976  1208.849976   \n",
       "...          ...          ...          ...          ...          ...   \n",
       "1661  2021-09-24  3890.000000  3944.399902  3855.000000  3871.300049   \n",
       "1662  2021-09-27  3900.000000  3904.000000  3802.899902  3836.949951   \n",
       "1663  2021-09-28  3850.000000  3850.000000  3751.250000  3779.149902   \n",
       "1664  2021-09-29  3759.800049  3806.000000  3722.149902  3791.899902   \n",
       "1665  2021-09-30  3805.000000  3805.000000  3750.100098  3775.550049   \n",
       "\n",
       "        Adj Close     Volume  \n",
       "0     1114.909302   366830.0  \n",
       "1     1129.757202   925740.0  \n",
       "2     1112.587769  1754242.0  \n",
       "3     1071.570801  2423784.0  \n",
       "4     1058.912842  2636332.0  \n",
       "...           ...        ...  \n",
       "1661  3871.300049  2320754.0  \n",
       "1662  3836.949951  1673362.0  \n",
       "1663  3779.149902  2253075.0  \n",
       "1664  3791.899902  2489161.0  \n",
       "1665  3775.550049  2252412.0  \n",
       "\n",
       "[1666 rows x 7 columns]"
      ]
     },
     "execution_count": 130,
     "metadata": {},
     "output_type": "execute_result"
    }
   ],
   "source": [
    "df = pd.read_csv(r\"C:\\Users\\Akash Borse\\Downloads\\TCS.NSE.csv\")\n",
    "df"
   ]
  },
  {
   "cell_type": "markdown",
   "id": "58df38c5",
   "metadata": {},
   "source": [
    "## Head will give us the first five rows and columns in the dataframe"
   ]
  },
  {
   "cell_type": "code",
   "execution_count": 131,
   "id": "53162bf8",
   "metadata": {},
   "outputs": [
    {
     "data": {
      "text/html": [
       "<div>\n",
       "<style scoped>\n",
       "    .dataframe tbody tr th:only-of-type {\n",
       "        vertical-align: middle;\n",
       "    }\n",
       "\n",
       "    .dataframe tbody tr th {\n",
       "        vertical-align: top;\n",
       "    }\n",
       "\n",
       "    .dataframe thead th {\n",
       "        text-align: right;\n",
       "    }\n",
       "</style>\n",
       "<table border=\"1\" class=\"dataframe\">\n",
       "  <thead>\n",
       "    <tr style=\"text-align: right;\">\n",
       "      <th></th>\n",
       "      <th>Date</th>\n",
       "      <th>Open</th>\n",
       "      <th>High</th>\n",
       "      <th>Low</th>\n",
       "      <th>Close</th>\n",
       "      <th>Adj Close</th>\n",
       "      <th>Volume</th>\n",
       "    </tr>\n",
       "  </thead>\n",
       "  <tbody>\n",
       "    <tr>\n",
       "      <th>0</th>\n",
       "      <td>2015-01-01</td>\n",
       "      <td>1283.500000</td>\n",
       "      <td>1283.500000</td>\n",
       "      <td>1270.500000</td>\n",
       "      <td>1272.775024</td>\n",
       "      <td>1114.909302</td>\n",
       "      <td>366830.0</td>\n",
       "    </tr>\n",
       "    <tr>\n",
       "      <th>1</th>\n",
       "      <td>2015-01-02</td>\n",
       "      <td>1275.500000</td>\n",
       "      <td>1295.474976</td>\n",
       "      <td>1275.300049</td>\n",
       "      <td>1289.724976</td>\n",
       "      <td>1129.757202</td>\n",
       "      <td>925740.0</td>\n",
       "    </tr>\n",
       "    <tr>\n",
       "      <th>2</th>\n",
       "      <td>2015-01-05</td>\n",
       "      <td>1290.500000</td>\n",
       "      <td>1299.949951</td>\n",
       "      <td>1262.324951</td>\n",
       "      <td>1270.125000</td>\n",
       "      <td>1112.587769</td>\n",
       "      <td>1754242.0</td>\n",
       "    </tr>\n",
       "    <tr>\n",
       "      <th>3</th>\n",
       "      <td>2015-01-06</td>\n",
       "      <td>1264.550049</td>\n",
       "      <td>1264.550049</td>\n",
       "      <td>1220.000000</td>\n",
       "      <td>1223.300049</td>\n",
       "      <td>1071.570801</td>\n",
       "      <td>2423784.0</td>\n",
       "    </tr>\n",
       "    <tr>\n",
       "      <th>4</th>\n",
       "      <td>2015-01-07</td>\n",
       "      <td>1235.000000</td>\n",
       "      <td>1239.574951</td>\n",
       "      <td>1203.724976</td>\n",
       "      <td>1208.849976</td>\n",
       "      <td>1058.912842</td>\n",
       "      <td>2636332.0</td>\n",
       "    </tr>\n",
       "  </tbody>\n",
       "</table>\n",
       "</div>"
      ],
      "text/plain": [
       "         Date         Open         High          Low        Close  \\\n",
       "0  2015-01-01  1283.500000  1283.500000  1270.500000  1272.775024   \n",
       "1  2015-01-02  1275.500000  1295.474976  1275.300049  1289.724976   \n",
       "2  2015-01-05  1290.500000  1299.949951  1262.324951  1270.125000   \n",
       "3  2015-01-06  1264.550049  1264.550049  1220.000000  1223.300049   \n",
       "4  2015-01-07  1235.000000  1239.574951  1203.724976  1208.849976   \n",
       "\n",
       "     Adj Close     Volume  \n",
       "0  1114.909302   366830.0  \n",
       "1  1129.757202   925740.0  \n",
       "2  1112.587769  1754242.0  \n",
       "3  1071.570801  2423784.0  \n",
       "4  1058.912842  2636332.0  "
      ]
     },
     "execution_count": 131,
     "metadata": {},
     "output_type": "execute_result"
    }
   ],
   "source": [
    "df.head()"
   ]
  },
  {
   "cell_type": "markdown",
   "id": "3b2670c8",
   "metadata": {},
   "source": [
    "## Tail will give us the last five rows and columns in the dataframe"
   ]
  },
  {
   "cell_type": "code",
   "execution_count": 132,
   "id": "3948ac16",
   "metadata": {},
   "outputs": [
    {
     "data": {
      "text/html": [
       "<div>\n",
       "<style scoped>\n",
       "    .dataframe tbody tr th:only-of-type {\n",
       "        vertical-align: middle;\n",
       "    }\n",
       "\n",
       "    .dataframe tbody tr th {\n",
       "        vertical-align: top;\n",
       "    }\n",
       "\n",
       "    .dataframe thead th {\n",
       "        text-align: right;\n",
       "    }\n",
       "</style>\n",
       "<table border=\"1\" class=\"dataframe\">\n",
       "  <thead>\n",
       "    <tr style=\"text-align: right;\">\n",
       "      <th></th>\n",
       "      <th>Date</th>\n",
       "      <th>Open</th>\n",
       "      <th>High</th>\n",
       "      <th>Low</th>\n",
       "      <th>Close</th>\n",
       "      <th>Adj Close</th>\n",
       "      <th>Volume</th>\n",
       "    </tr>\n",
       "  </thead>\n",
       "  <tbody>\n",
       "    <tr>\n",
       "      <th>1661</th>\n",
       "      <td>2021-09-24</td>\n",
       "      <td>3890.000000</td>\n",
       "      <td>3944.399902</td>\n",
       "      <td>3855.000000</td>\n",
       "      <td>3871.300049</td>\n",
       "      <td>3871.300049</td>\n",
       "      <td>2320754.0</td>\n",
       "    </tr>\n",
       "    <tr>\n",
       "      <th>1662</th>\n",
       "      <td>2021-09-27</td>\n",
       "      <td>3900.000000</td>\n",
       "      <td>3904.000000</td>\n",
       "      <td>3802.899902</td>\n",
       "      <td>3836.949951</td>\n",
       "      <td>3836.949951</td>\n",
       "      <td>1673362.0</td>\n",
       "    </tr>\n",
       "    <tr>\n",
       "      <th>1663</th>\n",
       "      <td>2021-09-28</td>\n",
       "      <td>3850.000000</td>\n",
       "      <td>3850.000000</td>\n",
       "      <td>3751.250000</td>\n",
       "      <td>3779.149902</td>\n",
       "      <td>3779.149902</td>\n",
       "      <td>2253075.0</td>\n",
       "    </tr>\n",
       "    <tr>\n",
       "      <th>1664</th>\n",
       "      <td>2021-09-29</td>\n",
       "      <td>3759.800049</td>\n",
       "      <td>3806.000000</td>\n",
       "      <td>3722.149902</td>\n",
       "      <td>3791.899902</td>\n",
       "      <td>3791.899902</td>\n",
       "      <td>2489161.0</td>\n",
       "    </tr>\n",
       "    <tr>\n",
       "      <th>1665</th>\n",
       "      <td>2021-09-30</td>\n",
       "      <td>3805.000000</td>\n",
       "      <td>3805.000000</td>\n",
       "      <td>3750.100098</td>\n",
       "      <td>3775.550049</td>\n",
       "      <td>3775.550049</td>\n",
       "      <td>2252412.0</td>\n",
       "    </tr>\n",
       "  </tbody>\n",
       "</table>\n",
       "</div>"
      ],
      "text/plain": [
       "            Date         Open         High          Low        Close  \\\n",
       "1661  2021-09-24  3890.000000  3944.399902  3855.000000  3871.300049   \n",
       "1662  2021-09-27  3900.000000  3904.000000  3802.899902  3836.949951   \n",
       "1663  2021-09-28  3850.000000  3850.000000  3751.250000  3779.149902   \n",
       "1664  2021-09-29  3759.800049  3806.000000  3722.149902  3791.899902   \n",
       "1665  2021-09-30  3805.000000  3805.000000  3750.100098  3775.550049   \n",
       "\n",
       "        Adj Close     Volume  \n",
       "1661  3871.300049  2320754.0  \n",
       "1662  3836.949951  1673362.0  \n",
       "1663  3779.149902  2253075.0  \n",
       "1664  3791.899902  2489161.0  \n",
       "1665  3775.550049  2252412.0  "
      ]
     },
     "execution_count": 132,
     "metadata": {},
     "output_type": "execute_result"
    }
   ],
   "source": [
    "df.tail()"
   ]
  },
  {
   "cell_type": "markdown",
   "id": "1bf190a3",
   "metadata": {},
   "source": [
    "## It shows the total no of rows and columns"
   ]
  },
  {
   "cell_type": "code",
   "execution_count": 133,
   "id": "b37836e0",
   "metadata": {},
   "outputs": [
    {
     "data": {
      "text/plain": [
       "(1666, 7)"
      ]
     },
     "execution_count": 133,
     "metadata": {},
     "output_type": "execute_result"
    }
   ],
   "source": [
    "df.shape"
   ]
  },
  {
   "cell_type": "code",
   "execution_count": 134,
   "id": "86900cf5",
   "metadata": {},
   "outputs": [
    {
     "name": "stdout",
     "output_type": "stream",
     "text": [
      "Total Rows = 1666\n",
      "Total Columns = 7\n"
     ]
    }
   ],
   "source": [
    "print(\"Total Rows =\",df.shape[0])\n",
    "print(\"Total Columns =\",df.shape[1])"
   ]
  },
  {
   "cell_type": "code",
   "execution_count": 135,
   "id": "aa8be3e0",
   "metadata": {},
   "outputs": [
    {
     "name": "stdout",
     "output_type": "stream",
     "text": [
      "<class 'pandas.core.frame.DataFrame'>\n",
      "RangeIndex: 1666 entries, 0 to 1665\n",
      "Data columns (total 7 columns):\n",
      " #   Column     Non-Null Count  Dtype  \n",
      "---  ------     --------------  -----  \n",
      " 0   Date       1666 non-null   object \n",
      " 1   Open       1663 non-null   float64\n",
      " 2   High       1663 non-null   float64\n",
      " 3   Low        1663 non-null   float64\n",
      " 4   Close      1663 non-null   float64\n",
      " 5   Adj Close  1663 non-null   float64\n",
      " 6   Volume     1663 non-null   float64\n",
      "dtypes: float64(6), object(1)\n",
      "memory usage: 91.2+ KB\n"
     ]
    }
   ],
   "source": [
    "df.info()"
   ]
  },
  {
   "cell_type": "code",
   "execution_count": 136,
   "id": "e8d9fb27",
   "metadata": {},
   "outputs": [
    {
     "data": {
      "text/html": [
       "<div>\n",
       "<style scoped>\n",
       "    .dataframe tbody tr th:only-of-type {\n",
       "        vertical-align: middle;\n",
       "    }\n",
       "\n",
       "    .dataframe tbody tr th {\n",
       "        vertical-align: top;\n",
       "    }\n",
       "\n",
       "    .dataframe thead th {\n",
       "        text-align: right;\n",
       "    }\n",
       "</style>\n",
       "<table border=\"1\" class=\"dataframe\">\n",
       "  <thead>\n",
       "    <tr style=\"text-align: right;\">\n",
       "      <th></th>\n",
       "      <th>Open</th>\n",
       "      <th>High</th>\n",
       "      <th>Low</th>\n",
       "      <th>Close</th>\n",
       "      <th>Adj Close</th>\n",
       "      <th>Volume</th>\n",
       "    </tr>\n",
       "  </thead>\n",
       "  <tbody>\n",
       "    <tr>\n",
       "      <th>count</th>\n",
       "      <td>1663.000000</td>\n",
       "      <td>1663.000000</td>\n",
       "      <td>1663.000000</td>\n",
       "      <td>1663.000000</td>\n",
       "      <td>1663.000000</td>\n",
       "      <td>1.663000e+03</td>\n",
       "    </tr>\n",
       "    <tr>\n",
       "      <th>mean</th>\n",
       "      <td>1826.027599</td>\n",
       "      <td>1845.240901</td>\n",
       "      <td>1805.624554</td>\n",
       "      <td>1825.226400</td>\n",
       "      <td>1733.238404</td>\n",
       "      <td>2.871305e+06</td>\n",
       "    </tr>\n",
       "    <tr>\n",
       "      <th>std</th>\n",
       "      <td>679.259927</td>\n",
       "      <td>686.315197</td>\n",
       "      <td>672.102864</td>\n",
       "      <td>678.990594</td>\n",
       "      <td>714.701808</td>\n",
       "      <td>2.752632e+06</td>\n",
       "    </tr>\n",
       "    <tr>\n",
       "      <th>min</th>\n",
       "      <td>1058.449951</td>\n",
       "      <td>1070.000000</td>\n",
       "      <td>1025.949951</td>\n",
       "      <td>1050.574951</td>\n",
       "      <td>955.857666</td>\n",
       "      <td>8.682200e+04</td>\n",
       "    </tr>\n",
       "    <tr>\n",
       "      <th>25%</th>\n",
       "      <td>1255.912476</td>\n",
       "      <td>1265.000000</td>\n",
       "      <td>1243.000000</td>\n",
       "      <td>1254.787536</td>\n",
       "      <td>1129.899963</td>\n",
       "      <td>1.738917e+06</td>\n",
       "    </tr>\n",
       "    <tr>\n",
       "      <th>50%</th>\n",
       "      <td>1725.000000</td>\n",
       "      <td>1750.000000</td>\n",
       "      <td>1702.000000</td>\n",
       "      <td>1725.625000</td>\n",
       "      <td>1619.241089</td>\n",
       "      <td>2.404448e+06</td>\n",
       "    </tr>\n",
       "    <tr>\n",
       "      <th>75%</th>\n",
       "      <td>2168.974976</td>\n",
       "      <td>2189.700074</td>\n",
       "      <td>2146.075074</td>\n",
       "      <td>2165.025024</td>\n",
       "      <td>2079.880738</td>\n",
       "      <td>3.328333e+06</td>\n",
       "    </tr>\n",
       "    <tr>\n",
       "      <th>max</th>\n",
       "      <td>3930.000000</td>\n",
       "      <td>3981.750000</td>\n",
       "      <td>3892.100098</td>\n",
       "      <td>3954.550049</td>\n",
       "      <td>3954.550049</td>\n",
       "      <td>8.806715e+07</td>\n",
       "    </tr>\n",
       "  </tbody>\n",
       "</table>\n",
       "</div>"
      ],
      "text/plain": [
       "              Open         High          Low        Close    Adj Close  \\\n",
       "count  1663.000000  1663.000000  1663.000000  1663.000000  1663.000000   \n",
       "mean   1826.027599  1845.240901  1805.624554  1825.226400  1733.238404   \n",
       "std     679.259927   686.315197   672.102864   678.990594   714.701808   \n",
       "min    1058.449951  1070.000000  1025.949951  1050.574951   955.857666   \n",
       "25%    1255.912476  1265.000000  1243.000000  1254.787536  1129.899963   \n",
       "50%    1725.000000  1750.000000  1702.000000  1725.625000  1619.241089   \n",
       "75%    2168.974976  2189.700074  2146.075074  2165.025024  2079.880738   \n",
       "max    3930.000000  3981.750000  3892.100098  3954.550049  3954.550049   \n",
       "\n",
       "             Volume  \n",
       "count  1.663000e+03  \n",
       "mean   2.871305e+06  \n",
       "std    2.752632e+06  \n",
       "min    8.682200e+04  \n",
       "25%    1.738917e+06  \n",
       "50%    2.404448e+06  \n",
       "75%    3.328333e+06  \n",
       "max    8.806715e+07  "
      ]
     },
     "execution_count": 136,
     "metadata": {},
     "output_type": "execute_result"
    }
   ],
   "source": [
    "df.describe()"
   ]
  },
  {
   "cell_type": "markdown",
   "id": "99da0e0d",
   "metadata": {},
   "source": [
    "##  Exploratory Data Analysis"
   ]
  },
  {
   "cell_type": "markdown",
   "id": "324a381a",
   "metadata": {},
   "source": [
    "* Exploratory Data Analysis is an approach to analyzing the data using visual techniques. It is used to discover trends, and patterns, or to check assumptions with the help of statistical summaries and graphical representations. "
   ]
  },
  {
   "cell_type": "markdown",
   "id": "56c4095a",
   "metadata": {},
   "source": [
    "* While performing the EDA of the TCS NSE Stock Price data we will analyze how prices of the stock have moved over the period of time and how the end of the quarters affects the prices of the stock."
   ]
  },
  {
   "cell_type": "code",
   "execution_count": 137,
   "id": "3da58dcc",
   "metadata": {},
   "outputs": [
    {
     "data": {
      "image/png": "[encoded data removed]",
      "text/plain": [
       "<Figure size 1080x360 with 1 Axes>"
      ]
     },
     "metadata": {},
     "output_type": "display_data"
    }
   ],
   "source": [
    "plt.figure(figsize=(15,5))\n",
    "plt.plot(df['Close'])\n",
    "plt.title('TCS Close price.', fontsize=15)\n",
    "plt.ylabel('Price in RS.')\n",
    "plt.show()"
   ]
  },
  {
   "cell_type": "markdown",
   "id": "ea160cca",
   "metadata": {},
   "source": [
    "* The prices of tesla stocks are showing an upward trend as depicted by the plot of the closing price of the stocks."
   ]
  },
  {
   "cell_type": "markdown",
   "id": "1e94fa86",
   "metadata": {},
   "source": [
    "# Checking the null values"
   ]
  },
  {
   "cell_type": "code",
   "execution_count": 138,
   "id": "d9a05230",
   "metadata": {},
   "outputs": [
    {
     "data": {
      "text/plain": [
       "Date         0\n",
       "Open         3\n",
       "High         3\n",
       "Low          3\n",
       "Close        3\n",
       "Adj Close    3\n",
       "Volume       3\n",
       "dtype: int64"
      ]
     },
     "execution_count": 138,
     "metadata": {},
     "output_type": "execute_result"
    }
   ],
   "source": [
    "df.isnull().sum()"
   ]
  },
  {
   "cell_type": "code",
   "execution_count": 139,
   "id": "cd317c0b",
   "metadata": {},
   "outputs": [],
   "source": [
    "df1=df.where((pd.notnull(df)),'')"
   ]
  },
  {
   "cell_type": "code",
   "execution_count": 140,
   "id": "c574f5d1",
   "metadata": {},
   "outputs": [
    {
     "data": {
      "text/plain": [
       "Date         0\n",
       "Open         0\n",
       "High         0\n",
       "Low          0\n",
       "Close        0\n",
       "Adj Close    0\n",
       "Volume       0\n",
       "dtype: int64"
      ]
     },
     "execution_count": 140,
     "metadata": {},
     "output_type": "execute_result"
    }
   ],
   "source": [
    "df1.isnull().sum(axis=0)"
   ]
  },
  {
   "cell_type": "markdown",
   "id": "78cafb83",
   "metadata": {},
   "source": [
    "# Distribution Plot"
   ]
  },
  {
   "cell_type": "code",
   "execution_count": 141,
   "id": "2ca97bcb",
   "metadata": {},
   "outputs": [
    {
     "data": {
      "image/png": "[encoded data removed]",
      "text/plain": [
       "<Figure size 1440x720 with 5 Axes>"
      ]
     },
     "metadata": {},
     "output_type": "display_data"
    }
   ],
   "source": [
    "features = ['Open', 'High', 'Low', 'Close', 'Volume']\n",
    " \n",
    "plt.subplots(figsize=(20,10))\n",
    " \n",
    "for i, col in enumerate(features):\n",
    "  plt.subplot(2,3,i+1)\n",
    "  sb.distplot(df[col])\n",
    "plt.show()"
   ]
  },
  {
   "cell_type": "markdown",
   "id": "dc1325ce",
   "metadata": {},
   "source": [
    "* This is the OHLC chart which is a type of bar chart that shows open, high, low, and closing prices for each period.\n",
    "* It can be applied to any timeframe."
   ]
  },
  {
   "cell_type": "markdown",
   "id": "f382aeee",
   "metadata": {},
   "source": [
    "# Histogram"
   ]
  },
  {
   "cell_type": "code",
   "execution_count": 142,
   "id": "ad32ac18",
   "metadata": {},
   "outputs": [
    {
     "data": {
      "image/png": "[encoded data removed]",
      "text/plain": [
       "<Figure size 432x288 with 6 Axes>"
      ]
     },
     "metadata": {},
     "output_type": "display_data"
    }
   ],
   "source": [
    "sns.set(style=\"darkgrid\")\n",
    "df.hist()\n",
    "plt.show()"
   ]
  },
  {
   "cell_type": "code",
   "execution_count": 143,
   "id": "cd62de6f",
   "metadata": {},
   "outputs": [
    {
     "data": {
      "image/png": "[encoded data removed]",
      "text/plain": [
       "<Figure size 1440x720 with 5 Axes>"
      ]
     },
     "metadata": {},
     "output_type": "display_data"
    }
   ],
   "source": [
    "plt.subplots(figsize=(20,10))\n",
    "for i, col in enumerate(features):\n",
    "  plt.subplot(2,3,i+1)\n",
    "  sb.boxplot(df[col])\n",
    "plt.show()"
   ]
  },
  {
   "cell_type": "markdown",
   "id": "ce4a9bc7",
   "metadata": {},
   "source": [
    "# Feature Engineering"
   ]
  },
  {
   "cell_type": "markdown",
   "id": "0cb6d828",
   "metadata": {},
   "source": [
    "* Feature Engineering helps to derive some valuable features from the existing ones. \n",
    "* These extra features sometimes help in increasing the performance of the model significantly and certainly help to gain deeper insights into the data."
   ]
  },
  {
   "cell_type": "code",
   "execution_count": 144,
   "id": "9652d940",
   "metadata": {},
   "outputs": [
    {
     "data": {
      "text/html": [
       "<div>\n",
       "<style scoped>\n",
       "    .dataframe tbody tr th:only-of-type {\n",
       "        vertical-align: middle;\n",
       "    }\n",
       "\n",
       "    .dataframe tbody tr th {\n",
       "        vertical-align: top;\n",
       "    }\n",
       "\n",
       "    .dataframe thead th {\n",
       "        text-align: right;\n",
       "    }\n",
       "</style>\n",
       "<table border=\"1\" class=\"dataframe\">\n",
       "  <thead>\n",
       "    <tr style=\"text-align: right;\">\n",
       "      <th></th>\n",
       "      <th>Date</th>\n",
       "      <th>Open</th>\n",
       "      <th>High</th>\n",
       "      <th>Low</th>\n",
       "      <th>Close</th>\n",
       "      <th>Adj Close</th>\n",
       "      <th>Volume</th>\n",
       "      <th>day</th>\n",
       "      <th>month</th>\n",
       "      <th>year</th>\n",
       "    </tr>\n",
       "  </thead>\n",
       "  <tbody>\n",
       "    <tr>\n",
       "      <th>0</th>\n",
       "      <td>2015-01-01</td>\n",
       "      <td>1283.500000</td>\n",
       "      <td>1283.500000</td>\n",
       "      <td>1270.500000</td>\n",
       "      <td>1272.775024</td>\n",
       "      <td>1114.909302</td>\n",
       "      <td>366830.0</td>\n",
       "      <td>1</td>\n",
       "      <td>1</td>\n",
       "      <td>2015</td>\n",
       "    </tr>\n",
       "    <tr>\n",
       "      <th>1</th>\n",
       "      <td>2015-01-02</td>\n",
       "      <td>1275.500000</td>\n",
       "      <td>1295.474976</td>\n",
       "      <td>1275.300049</td>\n",
       "      <td>1289.724976</td>\n",
       "      <td>1129.757202</td>\n",
       "      <td>925740.0</td>\n",
       "      <td>2</td>\n",
       "      <td>1</td>\n",
       "      <td>2015</td>\n",
       "    </tr>\n",
       "    <tr>\n",
       "      <th>2</th>\n",
       "      <td>2015-01-05</td>\n",
       "      <td>1290.500000</td>\n",
       "      <td>1299.949951</td>\n",
       "      <td>1262.324951</td>\n",
       "      <td>1270.125000</td>\n",
       "      <td>1112.587769</td>\n",
       "      <td>1754242.0</td>\n",
       "      <td>5</td>\n",
       "      <td>1</td>\n",
       "      <td>2015</td>\n",
       "    </tr>\n",
       "    <tr>\n",
       "      <th>3</th>\n",
       "      <td>2015-01-06</td>\n",
       "      <td>1264.550049</td>\n",
       "      <td>1264.550049</td>\n",
       "      <td>1220.000000</td>\n",
       "      <td>1223.300049</td>\n",
       "      <td>1071.570801</td>\n",
       "      <td>2423784.0</td>\n",
       "      <td>6</td>\n",
       "      <td>1</td>\n",
       "      <td>2015</td>\n",
       "    </tr>\n",
       "    <tr>\n",
       "      <th>4</th>\n",
       "      <td>2015-01-07</td>\n",
       "      <td>1235.000000</td>\n",
       "      <td>1239.574951</td>\n",
       "      <td>1203.724976</td>\n",
       "      <td>1208.849976</td>\n",
       "      <td>1058.912842</td>\n",
       "      <td>2636332.0</td>\n",
       "      <td>7</td>\n",
       "      <td>1</td>\n",
       "      <td>2015</td>\n",
       "    </tr>\n",
       "    <tr>\n",
       "      <th>...</th>\n",
       "      <td>...</td>\n",
       "      <td>...</td>\n",
       "      <td>...</td>\n",
       "      <td>...</td>\n",
       "      <td>...</td>\n",
       "      <td>...</td>\n",
       "      <td>...</td>\n",
       "      <td>...</td>\n",
       "      <td>...</td>\n",
       "      <td>...</td>\n",
       "    </tr>\n",
       "    <tr>\n",
       "      <th>1661</th>\n",
       "      <td>2021-09-24</td>\n",
       "      <td>3890.000000</td>\n",
       "      <td>3944.399902</td>\n",
       "      <td>3855.000000</td>\n",
       "      <td>3871.300049</td>\n",
       "      <td>3871.300049</td>\n",
       "      <td>2320754.0</td>\n",
       "      <td>24</td>\n",
       "      <td>9</td>\n",
       "      <td>2021</td>\n",
       "    </tr>\n",
       "    <tr>\n",
       "      <th>1662</th>\n",
       "      <td>2021-09-27</td>\n",
       "      <td>3900.000000</td>\n",
       "      <td>3904.000000</td>\n",
       "      <td>3802.899902</td>\n",
       "      <td>3836.949951</td>\n",
       "      <td>3836.949951</td>\n",
       "      <td>1673362.0</td>\n",
       "      <td>27</td>\n",
       "      <td>9</td>\n",
       "      <td>2021</td>\n",
       "    </tr>\n",
       "    <tr>\n",
       "      <th>1663</th>\n",
       "      <td>2021-09-28</td>\n",
       "      <td>3850.000000</td>\n",
       "      <td>3850.000000</td>\n",
       "      <td>3751.250000</td>\n",
       "      <td>3779.149902</td>\n",
       "      <td>3779.149902</td>\n",
       "      <td>2253075.0</td>\n",
       "      <td>28</td>\n",
       "      <td>9</td>\n",
       "      <td>2021</td>\n",
       "    </tr>\n",
       "    <tr>\n",
       "      <th>1664</th>\n",
       "      <td>2021-09-29</td>\n",
       "      <td>3759.800049</td>\n",
       "      <td>3806.000000</td>\n",
       "      <td>3722.149902</td>\n",
       "      <td>3791.899902</td>\n",
       "      <td>3791.899902</td>\n",
       "      <td>2489161.0</td>\n",
       "      <td>29</td>\n",
       "      <td>9</td>\n",
       "      <td>2021</td>\n",
       "    </tr>\n",
       "    <tr>\n",
       "      <th>1665</th>\n",
       "      <td>2021-09-30</td>\n",
       "      <td>3805.000000</td>\n",
       "      <td>3805.000000</td>\n",
       "      <td>3750.100098</td>\n",
       "      <td>3775.550049</td>\n",
       "      <td>3775.550049</td>\n",
       "      <td>2252412.0</td>\n",
       "      <td>30</td>\n",
       "      <td>9</td>\n",
       "      <td>2021</td>\n",
       "    </tr>\n",
       "  </tbody>\n",
       "</table>\n",
       "<p>1666 rows × 10 columns</p>\n",
       "</div>"
      ],
      "text/plain": [
       "            Date         Open         High          Low        Close  \\\n",
       "0     2015-01-01  1283.500000  1283.500000  1270.500000  1272.775024   \n",
       "1     2015-01-02  1275.500000  1295.474976  1275.300049  1289.724976   \n",
       "2     2015-01-05  1290.500000  1299.949951  1262.324951  1270.125000   \n",
       "3     2015-01-06  1264.550049  1264.550049  1220.000000  1223.300049   \n",
       "4     2015-01-07  1235.000000  1239.574951  1203.724976  1208.849976   \n",
       "...          ...          ...          ...          ...          ...   \n",
       "1661  2021-09-24  3890.000000  3944.399902  3855.000000  3871.300049   \n",
       "1662  2021-09-27  3900.000000  3904.000000  3802.899902  3836.949951   \n",
       "1663  2021-09-28  3850.000000  3850.000000  3751.250000  3779.149902   \n",
       "1664  2021-09-29  3759.800049  3806.000000  3722.149902  3791.899902   \n",
       "1665  2021-09-30  3805.000000  3805.000000  3750.100098  3775.550049   \n",
       "\n",
       "        Adj Close     Volume  day  month  year  \n",
       "0     1114.909302   366830.0    1      1  2015  \n",
       "1     1129.757202   925740.0    2      1  2015  \n",
       "2     1112.587769  1754242.0    5      1  2015  \n",
       "3     1071.570801  2423784.0    6      1  2015  \n",
       "4     1058.912842  2636332.0    7      1  2015  \n",
       "...           ...        ...  ...    ...   ...  \n",
       "1661  3871.300049  2320754.0   24      9  2021  \n",
       "1662  3836.949951  1673362.0   27      9  2021  \n",
       "1663  3779.149902  2253075.0   28      9  2021  \n",
       "1664  3791.899902  2489161.0   29      9  2021  \n",
       "1665  3775.550049  2252412.0   30      9  2021  \n",
       "\n",
       "[1666 rows x 10 columns]"
      ]
     },
     "execution_count": 144,
     "metadata": {},
     "output_type": "execute_result"
    }
   ],
   "source": [
    "splitted = df['Date'].str.split('-',expand=True)\n",
    " \n",
    "df['day'] = splitted[2].astype('int')\n",
    "df['month'] = splitted[1].astype('int')\n",
    "df['year'] = splitted[0].astype('int')\n",
    " \n",
    "df"
   ]
  },
  {
   "cell_type": "code",
   "execution_count": 145,
   "id": "bc29e36f",
   "metadata": {},
   "outputs": [
    {
     "data": {
      "text/html": [
       "<div>\n",
       "<style scoped>\n",
       "    .dataframe tbody tr th:only-of-type {\n",
       "        vertical-align: middle;\n",
       "    }\n",
       "\n",
       "    .dataframe tbody tr th {\n",
       "        vertical-align: top;\n",
       "    }\n",
       "\n",
       "    .dataframe thead th {\n",
       "        text-align: right;\n",
       "    }\n",
       "</style>\n",
       "<table border=\"1\" class=\"dataframe\">\n",
       "  <thead>\n",
       "    <tr style=\"text-align: right;\">\n",
       "      <th></th>\n",
       "      <th>Date</th>\n",
       "      <th>Open</th>\n",
       "      <th>High</th>\n",
       "      <th>Low</th>\n",
       "      <th>Close</th>\n",
       "      <th>Adj Close</th>\n",
       "      <th>Volume</th>\n",
       "      <th>day</th>\n",
       "      <th>month</th>\n",
       "      <th>year</th>\n",
       "      <th>is_quarter_end</th>\n",
       "    </tr>\n",
       "  </thead>\n",
       "  <tbody>\n",
       "    <tr>\n",
       "      <th>0</th>\n",
       "      <td>2015-01-01</td>\n",
       "      <td>1283.500000</td>\n",
       "      <td>1283.500000</td>\n",
       "      <td>1270.500000</td>\n",
       "      <td>1272.775024</td>\n",
       "      <td>1114.909302</td>\n",
       "      <td>366830.0</td>\n",
       "      <td>1</td>\n",
       "      <td>1</td>\n",
       "      <td>2015</td>\n",
       "      <td>0</td>\n",
       "    </tr>\n",
       "    <tr>\n",
       "      <th>1</th>\n",
       "      <td>2015-01-02</td>\n",
       "      <td>1275.500000</td>\n",
       "      <td>1295.474976</td>\n",
       "      <td>1275.300049</td>\n",
       "      <td>1289.724976</td>\n",
       "      <td>1129.757202</td>\n",
       "      <td>925740.0</td>\n",
       "      <td>2</td>\n",
       "      <td>1</td>\n",
       "      <td>2015</td>\n",
       "      <td>0</td>\n",
       "    </tr>\n",
       "    <tr>\n",
       "      <th>2</th>\n",
       "      <td>2015-01-05</td>\n",
       "      <td>1290.500000</td>\n",
       "      <td>1299.949951</td>\n",
       "      <td>1262.324951</td>\n",
       "      <td>1270.125000</td>\n",
       "      <td>1112.587769</td>\n",
       "      <td>1754242.0</td>\n",
       "      <td>5</td>\n",
       "      <td>1</td>\n",
       "      <td>2015</td>\n",
       "      <td>0</td>\n",
       "    </tr>\n",
       "    <tr>\n",
       "      <th>3</th>\n",
       "      <td>2015-01-06</td>\n",
       "      <td>1264.550049</td>\n",
       "      <td>1264.550049</td>\n",
       "      <td>1220.000000</td>\n",
       "      <td>1223.300049</td>\n",
       "      <td>1071.570801</td>\n",
       "      <td>2423784.0</td>\n",
       "      <td>6</td>\n",
       "      <td>1</td>\n",
       "      <td>2015</td>\n",
       "      <td>0</td>\n",
       "    </tr>\n",
       "    <tr>\n",
       "      <th>4</th>\n",
       "      <td>2015-01-07</td>\n",
       "      <td>1235.000000</td>\n",
       "      <td>1239.574951</td>\n",
       "      <td>1203.724976</td>\n",
       "      <td>1208.849976</td>\n",
       "      <td>1058.912842</td>\n",
       "      <td>2636332.0</td>\n",
       "      <td>7</td>\n",
       "      <td>1</td>\n",
       "      <td>2015</td>\n",
       "      <td>0</td>\n",
       "    </tr>\n",
       "  </tbody>\n",
       "</table>\n",
       "</div>"
      ],
      "text/plain": [
       "         Date         Open         High          Low        Close  \\\n",
       "0  2015-01-01  1283.500000  1283.500000  1270.500000  1272.775024   \n",
       "1  2015-01-02  1275.500000  1295.474976  1275.300049  1289.724976   \n",
       "2  2015-01-05  1290.500000  1299.949951  1262.324951  1270.125000   \n",
       "3  2015-01-06  1264.550049  1264.550049  1220.000000  1223.300049   \n",
       "4  2015-01-07  1235.000000  1239.574951  1203.724976  1208.849976   \n",
       "\n",
       "     Adj Close     Volume  day  month  year  is_quarter_end  \n",
       "0  1114.909302   366830.0    1      1  2015               0  \n",
       "1  1129.757202   925740.0    2      1  2015               0  \n",
       "2  1112.587769  1754242.0    5      1  2015               0  \n",
       "3  1071.570801  2423784.0    6      1  2015               0  \n",
       "4  1058.912842  2636332.0    7      1  2015               0  "
      ]
     },
     "execution_count": 145,
     "metadata": {},
     "output_type": "execute_result"
    }
   ],
   "source": [
    "df['is_quarter_end'] = np.where(df['month']%3==0,1,0)\n",
    "df.head()"
   ]
  },
  {
   "cell_type": "markdown",
   "id": "28a8d231",
   "metadata": {},
   "source": [
    "* A quarter is defined as a group of three months. Every company prepares its quarterly results and publishes them publicly so, that people can analyze the company’s performance."
   ]
  },
  {
   "cell_type": "code",
   "execution_count": 146,
   "id": "a471b53e",
   "metadata": {},
   "outputs": [
    {
     "data": {
      "image/png": "[encoded data removed]",
      "text/plain": [
       "<Figure size 1440x720 with 4 Axes>"
      ]
     },
     "metadata": {},
     "output_type": "display_data"
    }
   ],
   "source": [
    "data_grouped = df.groupby('year').mean()\n",
    "plt.subplots(figsize=(20,10))\n",
    " \n",
    "for i, col in enumerate(['Open', 'High', 'Low', 'Close']):\n",
    "  plt.subplot(2,2,i+1)\n",
    "  data_grouped[col].plot.bar()\n",
    "plt.show()"
   ]
  },
  {
   "cell_type": "code",
   "execution_count": 147,
   "id": "fe67f6ed",
   "metadata": {},
   "outputs": [
    {
     "data": {
      "text/html": [
       "<div>\n",
       "<style scoped>\n",
       "    .dataframe tbody tr th:only-of-type {\n",
       "        vertical-align: middle;\n",
       "    }\n",
       "\n",
       "    .dataframe tbody tr th {\n",
       "        vertical-align: top;\n",
       "    }\n",
       "\n",
       "    .dataframe thead th {\n",
       "        text-align: right;\n",
       "    }\n",
       "</style>\n",
       "<table border=\"1\" class=\"dataframe\">\n",
       "  <thead>\n",
       "    <tr style=\"text-align: right;\">\n",
       "      <th></th>\n",
       "      <th>Open</th>\n",
       "      <th>High</th>\n",
       "      <th>Low</th>\n",
       "      <th>Close</th>\n",
       "      <th>Adj Close</th>\n",
       "      <th>Volume</th>\n",
       "      <th>day</th>\n",
       "      <th>month</th>\n",
       "      <th>year</th>\n",
       "    </tr>\n",
       "    <tr>\n",
       "      <th>is_quarter_end</th>\n",
       "      <th></th>\n",
       "      <th></th>\n",
       "      <th></th>\n",
       "      <th></th>\n",
       "      <th></th>\n",
       "      <th></th>\n",
       "      <th></th>\n",
       "      <th></th>\n",
       "      <th></th>\n",
       "    </tr>\n",
       "  </thead>\n",
       "  <tbody>\n",
       "    <tr>\n",
       "      <th>0</th>\n",
       "      <td>1812.120809</td>\n",
       "      <td>1830.768407</td>\n",
       "      <td>1791.602021</td>\n",
       "      <td>1810.831570</td>\n",
       "      <td>1717.448618</td>\n",
       "      <td>2.858218e+06</td>\n",
       "      <td>15.821138</td>\n",
       "      <td>5.840108</td>\n",
       "      <td>2017.894309</td>\n",
       "    </tr>\n",
       "    <tr>\n",
       "      <th>1</th>\n",
       "      <td>1853.492887</td>\n",
       "      <td>1873.823430</td>\n",
       "      <td>1833.318429</td>\n",
       "      <td>1853.655546</td>\n",
       "      <td>1764.422525</td>\n",
       "      <td>2.897150e+06</td>\n",
       "      <td>15.667263</td>\n",
       "      <td>7.357782</td>\n",
       "      <td>2017.885510</td>\n",
       "    </tr>\n",
       "  </tbody>\n",
       "</table>\n",
       "</div>"
      ],
      "text/plain": [
       "                       Open         High          Low        Close  \\\n",
       "is_quarter_end                                                       \n",
       "0               1812.120809  1830.768407  1791.602021  1810.831570   \n",
       "1               1853.492887  1873.823430  1833.318429  1853.655546   \n",
       "\n",
       "                  Adj Close        Volume        day     month         year  \n",
       "is_quarter_end                                                               \n",
       "0               1717.448618  2.858218e+06  15.821138  5.840108  2017.894309  \n",
       "1               1764.422525  2.897150e+06  15.667263  7.357782  2017.885510  "
      ]
     },
     "execution_count": 147,
     "metadata": {},
     "output_type": "execute_result"
    }
   ],
   "source": [
    "df.groupby('is_quarter_end').mean()"
   ]
  },
  {
   "cell_type": "markdown",
   "id": "8bb3c95a",
   "metadata": {},
   "source": [
    "* In above grouped data\n",
    "* Prices are higher in the months which are quarter end as compared to that of the non-quarter end months.\n",
    "* The volume of trades is lower in the months which are quarter end."
   ]
  },
  {
   "cell_type": "code",
   "execution_count": 148,
   "id": "3ac14539",
   "metadata": {},
   "outputs": [],
   "source": [
    "df['open-close']  = df['Open'] - df['Close']\n",
    "df['low-high']  = df['Low'] - df['High']\n",
    "df['target'] = np.where(df['Close'].shift(-1) > df['Close'], 1, 0)"
   ]
  },
  {
   "cell_type": "markdown",
   "id": "04bfce71",
   "metadata": {},
   "source": [
    "* We have added the target feature which is a signal whether to buy or not we will train our model to predict this only. \n",
    "* Before proceeding let’s check whether the target is balanced or not using a pie chart."
   ]
  },
  {
   "cell_type": "code",
   "execution_count": 149,
   "id": "0afc69a9",
   "metadata": {},
   "outputs": [
    {
     "data": {
      "image/png": "[encoded data removed]",
      "text/plain": [
       "<Figure size 432x288 with 1 Axes>"
      ]
     },
     "metadata": {},
     "output_type": "display_data"
    }
   ],
   "source": [
    "plt.pie(df['target'].value_counts().values,\n",
    "        labels=[0, 1], autopct='%1.1f%%')\n",
    "plt.show()"
   ]
  },
  {
   "cell_type": "markdown",
   "id": "720c39b3",
   "metadata": {},
   "source": [
    "## Correlation Matrix\n",
    "* A correlation matrix is a table showing correlation coefficients between variables. Each cell in the table shows the correlation between two variables.\n",
    "* When we add features to our dataset we have to ensure that there are no highly correlated features as they do not help in the learning process of the algorithm."
   ]
  },
  {
   "cell_type": "code",
   "execution_count": 150,
   "id": "1f55aa5e",
   "metadata": {},
   "outputs": [
    {
     "data": {
      "text/html": [
       "<div>\n",
       "<style scoped>\n",
       "    .dataframe tbody tr th:only-of-type {\n",
       "        vertical-align: middle;\n",
       "    }\n",
       "\n",
       "    .dataframe tbody tr th {\n",
       "        vertical-align: top;\n",
       "    }\n",
       "\n",
       "    .dataframe thead th {\n",
       "        text-align: right;\n",
       "    }\n",
       "</style>\n",
       "<table border=\"1\" class=\"dataframe\">\n",
       "  <thead>\n",
       "    <tr style=\"text-align: right;\">\n",
       "      <th></th>\n",
       "      <th>Open</th>\n",
       "      <th>High</th>\n",
       "      <th>Low</th>\n",
       "      <th>Close</th>\n",
       "      <th>Adj Close</th>\n",
       "      <th>Volume</th>\n",
       "      <th>day</th>\n",
       "      <th>month</th>\n",
       "      <th>year</th>\n",
       "      <th>is_quarter_end</th>\n",
       "      <th>open-close</th>\n",
       "      <th>low-high</th>\n",
       "      <th>target</th>\n",
       "    </tr>\n",
       "  </thead>\n",
       "  <tbody>\n",
       "    <tr>\n",
       "      <th>Open</th>\n",
       "      <td>1.000000</td>\n",
       "      <td>0.999572</td>\n",
       "      <td>0.999594</td>\n",
       "      <td>0.999185</td>\n",
       "      <td>0.998509</td>\n",
       "      <td>0.104266</td>\n",
       "      <td>0.006775</td>\n",
       "      <td>0.037817</td>\n",
       "      <td>0.883913</td>\n",
       "      <td>0.028781</td>\n",
       "      <td>0.030003</td>\n",
       "      <td>-0.548138</td>\n",
       "      <td>0.013179</td>\n",
       "    </tr>\n",
       "    <tr>\n",
       "      <th>High</th>\n",
       "      <td>0.999572</td>\n",
       "      <td>1.000000</td>\n",
       "      <td>0.999492</td>\n",
       "      <td>0.999671</td>\n",
       "      <td>0.999118</td>\n",
       "      <td>0.111553</td>\n",
       "      <td>0.007706</td>\n",
       "      <td>0.035909</td>\n",
       "      <td>0.886225</td>\n",
       "      <td>0.029643</td>\n",
       "      <td>0.007379</td>\n",
       "      <td>-0.562102</td>\n",
       "      <td>0.013223</td>\n",
       "    </tr>\n",
       "    <tr>\n",
       "      <th>Low</th>\n",
       "      <td>0.999594</td>\n",
       "      <td>0.999492</td>\n",
       "      <td>1.000000</td>\n",
       "      <td>0.999625</td>\n",
       "      <td>0.998876</td>\n",
       "      <td>0.100129</td>\n",
       "      <td>0.007031</td>\n",
       "      <td>0.039026</td>\n",
       "      <td>0.882649</td>\n",
       "      <td>0.029329</td>\n",
       "      <td>0.009033</td>\n",
       "      <td>-0.535466</td>\n",
       "      <td>0.013318</td>\n",
       "    </tr>\n",
       "    <tr>\n",
       "      <th>Close</th>\n",
       "      <td>0.999185</td>\n",
       "      <td>0.999671</td>\n",
       "      <td>0.999625</td>\n",
       "      <td>1.000000</td>\n",
       "      <td>0.999297</td>\n",
       "      <td>0.106064</td>\n",
       "      <td>0.007667</td>\n",
       "      <td>0.037638</td>\n",
       "      <td>0.884250</td>\n",
       "      <td>0.029802</td>\n",
       "      <td>-0.010363</td>\n",
       "      <td>-0.549924</td>\n",
       "      <td>0.012941</td>\n",
       "    </tr>\n",
       "    <tr>\n",
       "      <th>Adj Close</th>\n",
       "      <td>0.998509</td>\n",
       "      <td>0.999118</td>\n",
       "      <td>0.998876</td>\n",
       "      <td>0.999297</td>\n",
       "      <td>1.000000</td>\n",
       "      <td>0.108607</td>\n",
       "      <td>0.008180</td>\n",
       "      <td>0.040921</td>\n",
       "      <td>0.894244</td>\n",
       "      <td>0.031057</td>\n",
       "      <td>-0.009708</td>\n",
       "      <td>-0.554717</td>\n",
       "      <td>0.014979</td>\n",
       "    </tr>\n",
       "    <tr>\n",
       "      <th>Volume</th>\n",
       "      <td>0.104266</td>\n",
       "      <td>0.111553</td>\n",
       "      <td>0.100129</td>\n",
       "      <td>0.106064</td>\n",
       "      <td>0.108607</td>\n",
       "      <td>1.000000</td>\n",
       "      <td>0.035590</td>\n",
       "      <td>-0.053617</td>\n",
       "      <td>0.163152</td>\n",
       "      <td>0.006683</td>\n",
       "      <td>-0.043500</td>\n",
       "      <td>-0.357805</td>\n",
       "      <td>0.020812</td>\n",
       "    </tr>\n",
       "    <tr>\n",
       "      <th>day</th>\n",
       "      <td>0.006775</td>\n",
       "      <td>0.007706</td>\n",
       "      <td>0.007031</td>\n",
       "      <td>0.007667</td>\n",
       "      <td>0.008180</td>\n",
       "      <td>0.035590</td>\n",
       "      <td>1.000000</td>\n",
       "      <td>0.014859</td>\n",
       "      <td>-0.002299</td>\n",
       "      <td>-0.008265</td>\n",
       "      <td>-0.022018</td>\n",
       "      <td>-0.021757</td>\n",
       "      <td>-0.011981</td>\n",
       "    </tr>\n",
       "    <tr>\n",
       "      <th>month</th>\n",
       "      <td>0.037817</td>\n",
       "      <td>0.035909</td>\n",
       "      <td>0.039026</td>\n",
       "      <td>0.037638</td>\n",
       "      <td>0.040921</td>\n",
       "      <td>-0.053617</td>\n",
       "      <td>0.014859</td>\n",
       "      <td>1.000000</td>\n",
       "      <td>-0.074313</td>\n",
       "      <td>0.210988</td>\n",
       "      <td>0.004795</td>\n",
       "      <td>0.061194</td>\n",
       "      <td>-0.008498</td>\n",
       "    </tr>\n",
       "    <tr>\n",
       "      <th>year</th>\n",
       "      <td>0.883913</td>\n",
       "      <td>0.886225</td>\n",
       "      <td>0.882649</td>\n",
       "      <td>0.884250</td>\n",
       "      <td>0.894244</td>\n",
       "      <td>0.163152</td>\n",
       "      <td>-0.002299</td>\n",
       "      <td>-0.074313</td>\n",
       "      <td>1.000000</td>\n",
       "      <td>-0.002129</td>\n",
       "      <td>0.000344</td>\n",
       "      <td>-0.579301</td>\n",
       "      <td>0.034454</td>\n",
       "    </tr>\n",
       "    <tr>\n",
       "      <th>is_quarter_end</th>\n",
       "      <td>0.028781</td>\n",
       "      <td>0.029643</td>\n",
       "      <td>0.029329</td>\n",
       "      <td>0.029802</td>\n",
       "      <td>0.031057</td>\n",
       "      <td>0.006683</td>\n",
       "      <td>-0.008265</td>\n",
       "      <td>0.210988</td>\n",
       "      <td>-0.002129</td>\n",
       "      <td>1.000000</td>\n",
       "      <td>-0.025024</td>\n",
       "      <td>-0.024430</td>\n",
       "      <td>0.007078</td>\n",
       "    </tr>\n",
       "    <tr>\n",
       "      <th>open-close</th>\n",
       "      <td>0.030003</td>\n",
       "      <td>0.007379</td>\n",
       "      <td>0.009033</td>\n",
       "      <td>-0.010363</td>\n",
       "      <td>-0.009708</td>\n",
       "      <td>-0.043500</td>\n",
       "      <td>-0.022018</td>\n",
       "      <td>0.004795</td>\n",
       "      <td>0.000344</td>\n",
       "      <td>-0.025024</td>\n",
       "      <td>1.000000</td>\n",
       "      <td>0.038868</td>\n",
       "      <td>0.006022</td>\n",
       "    </tr>\n",
       "    <tr>\n",
       "      <th>low-high</th>\n",
       "      <td>-0.548138</td>\n",
       "      <td>-0.562102</td>\n",
       "      <td>-0.535466</td>\n",
       "      <td>-0.549924</td>\n",
       "      <td>-0.554717</td>\n",
       "      <td>-0.357805</td>\n",
       "      <td>-0.021757</td>\n",
       "      <td>0.061194</td>\n",
       "      <td>-0.579301</td>\n",
       "      <td>-0.024430</td>\n",
       "      <td>0.038868</td>\n",
       "      <td>1.000000</td>\n",
       "      <td>-0.004788</td>\n",
       "    </tr>\n",
       "    <tr>\n",
       "      <th>target</th>\n",
       "      <td>0.013179</td>\n",
       "      <td>0.013223</td>\n",
       "      <td>0.013318</td>\n",
       "      <td>0.012941</td>\n",
       "      <td>0.014979</td>\n",
       "      <td>0.020812</td>\n",
       "      <td>-0.011981</td>\n",
       "      <td>-0.008498</td>\n",
       "      <td>0.034454</td>\n",
       "      <td>0.007078</td>\n",
       "      <td>0.006022</td>\n",
       "      <td>-0.004788</td>\n",
       "      <td>1.000000</td>\n",
       "    </tr>\n",
       "  </tbody>\n",
       "</table>\n",
       "</div>"
      ],
      "text/plain": [
       "                    Open      High       Low     Close  Adj Close    Volume  \\\n",
       "Open            1.000000  0.999572  0.999594  0.999185   0.998509  0.104266   \n",
       "High            0.999572  1.000000  0.999492  0.999671   0.999118  0.111553   \n",
       "Low             0.999594  0.999492  1.000000  0.999625   0.998876  0.100129   \n",
       "Close           0.999185  0.999671  0.999625  1.000000   0.999297  0.106064   \n",
       "Adj Close       0.998509  0.999118  0.998876  0.999297   1.000000  0.108607   \n",
       "Volume          0.104266  0.111553  0.100129  0.106064   0.108607  1.000000   \n",
       "day             0.006775  0.007706  0.007031  0.007667   0.008180  0.035590   \n",
       "month           0.037817  0.035909  0.039026  0.037638   0.040921 -0.053617   \n",
       "year            0.883913  0.886225  0.882649  0.884250   0.894244  0.163152   \n",
       "is_quarter_end  0.028781  0.029643  0.029329  0.029802   0.031057  0.006683   \n",
       "open-close      0.030003  0.007379  0.009033 -0.010363  -0.009708 -0.043500   \n",
       "low-high       -0.548138 -0.562102 -0.535466 -0.549924  -0.554717 -0.357805   \n",
       "target          0.013179  0.013223  0.013318  0.012941   0.014979  0.020812   \n",
       "\n",
       "                     day     month      year  is_quarter_end  open-close  \\\n",
       "Open            0.006775  0.037817  0.883913        0.028781    0.030003   \n",
       "High            0.007706  0.035909  0.886225        0.029643    0.007379   \n",
       "Low             0.007031  0.039026  0.882649        0.029329    0.009033   \n",
       "Close           0.007667  0.037638  0.884250        0.029802   -0.010363   \n",
       "Adj Close       0.008180  0.040921  0.894244        0.031057   -0.009708   \n",
       "Volume          0.035590 -0.053617  0.163152        0.006683   -0.043500   \n",
       "day             1.000000  0.014859 -0.002299       -0.008265   -0.022018   \n",
       "month           0.014859  1.000000 -0.074313        0.210988    0.004795   \n",
       "year           -0.002299 -0.074313  1.000000       -0.002129    0.000344   \n",
       "is_quarter_end -0.008265  0.210988 -0.002129        1.000000   -0.025024   \n",
       "open-close     -0.022018  0.004795  0.000344       -0.025024    1.000000   \n",
       "low-high       -0.021757  0.061194 -0.579301       -0.024430    0.038868   \n",
       "target         -0.011981 -0.008498  0.034454        0.007078    0.006022   \n",
       "\n",
       "                low-high    target  \n",
       "Open           -0.548138  0.013179  \n",
       "High           -0.562102  0.013223  \n",
       "Low            -0.535466  0.013318  \n",
       "Close          -0.549924  0.012941  \n",
       "Adj Close      -0.554717  0.014979  \n",
       "Volume         -0.357805  0.020812  \n",
       "day            -0.021757 -0.011981  \n",
       "month           0.061194 -0.008498  \n",
       "year           -0.579301  0.034454  \n",
       "is_quarter_end -0.024430  0.007078  \n",
       "open-close      0.038868  0.006022  \n",
       "low-high        1.000000 -0.004788  \n",
       "target         -0.004788  1.000000  "
      ]
     },
     "execution_count": 150,
     "metadata": {},
     "output_type": "execute_result"
    }
   ],
   "source": [
    "df.corr()"
   ]
  },
  {
   "cell_type": "code",
   "execution_count": 151,
   "id": "6e3d1494",
   "metadata": {},
   "outputs": [
    {
     "data": {
      "image/png": "[encoded data removed]",
      "text/plain": [
       "<Figure size 720x720 with 1 Axes>"
      ]
     },
     "metadata": {},
     "output_type": "display_data"
    }
   ],
   "source": [
    "plt.figure(figsize=(10, 10))\n",
    "sb.heatmap(df.corr() > 0.9, annot=True, cbar=False)\n",
    "plt.show()"
   ]
  },
  {
   "cell_type": "markdown",
   "id": "b20dbe12",
   "metadata": {},
   "source": [
    "* From the above heatmap, we can say that there is a high correlation between OHLC that is pretty obvious, and the added features are not highly correlated with each other or previously provided features which means that we are good to go and build our model."
   ]
  },
  {
   "cell_type": "markdown",
   "id": "cb2355ab",
   "metadata": {},
   "source": [
    "## Split The Data Into Training & Testing Datasets\n",
    "* The training dataset is used to train the model and the testing dataset is to test the model which has been trained with the training dataset.\n"
   ]
  },
  {
   "cell_type": "code",
   "execution_count": 174,
   "id": "b779557e",
   "metadata": {},
   "outputs": [],
   "source": [
    "newdf = df.dropna(axis = 0, how ='any')"
   ]
  },
  {
   "cell_type": "code",
   "execution_count": 182,
   "id": "a52dddc3",
   "metadata": {},
   "outputs": [],
   "source": [
    "newdf['open-close'] = newdf['open-close'].astype(int)\n",
    "newdf['low-high'] = newdf['low-high'].astype(int)\n",
    "  "
   ]
  },
  {
   "cell_type": "code",
   "execution_count": 184,
   "id": "f4f556f4",
   "metadata": {},
   "outputs": [
    {
     "name": "stdout",
     "output_type": "stream",
     "text": [
      "<class 'pandas.core.frame.DataFrame'>\n",
      "Int64Index: 1663 entries, 0 to 1665\n",
      "Data columns (total 14 columns):\n",
      " #   Column          Non-Null Count  Dtype  \n",
      "---  ------          --------------  -----  \n",
      " 0   Date            1663 non-null   object \n",
      " 1   Open            1663 non-null   float64\n",
      " 2   High            1663 non-null   float64\n",
      " 3   Low             1663 non-null   float64\n",
      " 4   Close           1663 non-null   float64\n",
      " 5   Adj Close       1663 non-null   float64\n",
      " 6   Volume          1663 non-null   float64\n",
      " 7   day             1663 non-null   int32  \n",
      " 8   month           1663 non-null   int32  \n",
      " 9   year            1663 non-null   int32  \n",
      " 10  is_quarter_end  1663 non-null   int32  \n",
      " 11  open-close      1663 non-null   int32  \n",
      " 12  low-high        1663 non-null   int32  \n",
      " 13  target          1663 non-null   int32  \n",
      "dtypes: float64(6), int32(7), object(1)\n",
      "memory usage: 149.4+ KB\n"
     ]
    }
   ],
   "source": [
    "newdf.info()"
   ]
  },
  {
   "cell_type": "code",
   "execution_count": 185,
   "id": "2c6f1571",
   "metadata": {},
   "outputs": [
    {
     "name": "stdout",
     "output_type": "stream",
     "text": [
      "(1496, 3) (167, 3)\n"
     ]
    }
   ],
   "source": [
    "features = newdf[['open-close', 'low-high', 'is_quarter_end']]\n",
    "target = newdf['target']\n",
    " \n",
    "scaler = StandardScaler()\n",
    "features = scaler.fit_transform(features)\n",
    " \n",
    "X_train, X_test, Y_train, Y_test = train_test_split(\n",
    "    features, target, test_size=0.1, random_state=2022)\n",
    "print(X_train.shape, X_test.shape)"
   ]
  },
  {
   "cell_type": "code",
   "execution_count": 186,
   "id": "cfe7d46b",
   "metadata": {},
   "outputs": [
    {
     "data": {
      "text/plain": [
       "179     0\n",
       "1105    0\n",
       "5       1\n",
       "1260    1\n",
       "1022    0\n",
       "Name: target, dtype: int32"
      ]
     },
     "execution_count": 186,
     "metadata": {},
     "output_type": "execute_result"
    }
   ],
   "source": [
    "Y_train[:5]"
   ]
  },
  {
   "cell_type": "markdown",
   "id": "4e9a568b",
   "metadata": {},
   "source": [
    "## Model Training\n",
    "* Now classifying the TCS NSC dataset using logistic regression. For creating the model, import LogisticRegression from the sci-kit learn library.\n",
    "## What is Logistic Regression ?\n",
    "* Logistic Regression is used to find the relationship between dependent and independent variables. This is done by using a logistic regression equation. This is a very easy to implement, understand, and also easy method to train the model."
   ]
  },
  {
   "cell_type": "code",
   "execution_count": 189,
   "id": "c2dc2d5e",
   "metadata": {},
   "outputs": [
    {
     "name": "stdout",
     "output_type": "stream",
     "text": [
      "LogisticRegression() : \n",
      "Training Accuracy :  0.5239491507539216\n",
      "Testing Accuracy :  0.3747479112647652\n",
      "\n",
      "SVC(kernel='poly', probability=True) : \n",
      "Training Accuracy :  0.5380949059542908\n",
      "Testing Accuracy :  0.40435033131662346\n",
      "\n",
      "XGBClassifier(base_score=None, booster=None, callbacks=None,\n",
      "              colsample_bylevel=None, colsample_bynode=None,\n",
      "              colsample_bytree=None, early_stopping_rounds=None,\n",
      "              enable_categorical=False, eval_metric=None, feature_types=None,\n",
      "              gamma=None, gpu_id=None, grow_policy=None, importance_type=None,\n",
      "              interaction_constraints=None, learning_rate=None, max_bin=None,\n",
      "              max_cat_threshold=None, max_cat_to_onehot=None,\n",
      "              max_delta_step=None, max_depth=None, max_leaves=None,\n",
      "              min_child_weight=None, missing=nan, monotone_constraints=None,\n",
      "              n_estimators=100, n_jobs=None, num_parallel_tree=None,\n",
      "              predictor=None, random_state=None, ...) : \n",
      "Training Accuracy :  0.9097860475763804\n",
      "Testing Accuracy :  0.483362143474503\n",
      "\n"
     ]
    }
   ],
   "source": [
    "models = [LogisticRegression(), SVC(\n",
    "  kernel='poly', probability=True), XGBClassifier()]\n",
    " \n",
    "for i in range(3):\n",
    "  models[i].fit(X_train, Y_train)\n",
    " \n",
    "  print(f'{models[i]} : ')\n",
    "  print('Training Accuracy : ', metrics.roc_auc_score(\n",
    "    Y_train, models[i].predict_proba(X_train)[:,1]))\n",
    "  print('Testing Accuracy : ', metrics.roc_auc_score(\n",
    "    Y_test, models[i].predict_proba(X_test)[:,1]))\n",
    "  print()"
   ]
  },
  {
   "cell_type": "code",
   "execution_count": null,
   "id": "09e64bed",
   "metadata": {},
   "outputs": [],
   "source": []
  }
 ],
 "metadata": {
  "kernelspec": {
   "display_name": "Python 3",
   "language": "python",
   "name": "python3"
  },
  "language_info": {
   "codemirror_mode": {
    "name": "ipython",
    "version": 3
   },
   "file_extension": ".py",
   "mimetype": "text/x-python",
   "name": "python",
   "nbconvert_exporter": "python",
   "pygments_lexer": "ipython3",
   "version": "3.8.8"
  }
 },
 "nbformat": 4,
 "nbformat_minor": 5
}
